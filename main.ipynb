{
 "cells": [
  {
   "cell_type": "code",
   "execution_count": 1,
   "metadata": {},
   "outputs": [],
   "source": [
    "import comm as cmm\n",
    "import codecs\n",
    "\n",
    "def GenCreateTable(df):\n",
    "\n",
    "    tbNames = df[\"TableName\"].unique()\n",
    "    for tb in tbNames:\n",
    "        colsStr, ColExtFormats=\"\",\"\"\n",
    "        dfs = df[df[\"TableName\"]==tb]\n",
    "      \n",
    "        for e in dfs[\"colComp\"]:\n",
    "            colsStr += e +\"\\n\"\n",
    "\n",
    "        for e in dfs[\"colExt\"]:\n",
    "            ColExtFormats += e +\"\\n\"\n",
    "\n",
    "        tmpFile = codecs.open(\"template/createTable.sql\",\"r\").read().format(tb=tb, colsStr=colsStr, ColExtFormats=ColExtFormats)\n",
    "        f = codecs.open(f\"tables/tb{tb}.sql\", \"w\",\"utf-8\")\n",
    "        f.write(tmpFile)\n",
    "        f.close()\n",
    "\n",
    "\n",
    "def GenOneDeleteSP(tb, dfc):\n",
    "    pt_input, pt_Declare, pt_SetValue = \"\",\"\",\"\"\n",
    "\n",
    "    dft = df_sp[df_sp[\"tableName\"]==tb]\n",
    "    tbDscr = dft[\"tbDscr\"].values[0]         #取得單一值\n",
    "    dfc = dfc[dfc[\"tableName\"]==tb]    \n",
    "    dfc = dfc.loc[dfc[\"col\"].isin([\"SeqNo\"])]\n",
    "\n",
    "    for e in dfc:\n",
    "        d = dfc[e].values[0]\n",
    "        pt_input += f\"{d}\\n\\t\" if (e==\"cmmt_InputParas\") else \"\"\n",
    "        pt_Declare += f\"{d}\\n\\t\" if (e==\"cmmt_Declares\") else \"\"\n",
    "        pt_SetValue += f\"{d}\\n\\t\" if (e==\"cmmt_SetValue\") else \"\"\n",
    "    \n",
    "    pt_DateTime = time.strftime(\"%Y-%m-%d %H:%M:%S\", time.localtime())\n",
    "    tmpFile = codecs.open(\"template/agdSP.Delete.sql\",\"r\",encoding=\"utf-8\").read().format(tb=tb, tbDscr=tbDscr, pt_DateTime=pt_DateTime, pt_input=pt_input[:-2], pt_Declare=pt_Declare[:-2], pt_SetValue=pt_SetValue[:-2])\n",
    "    \n",
    "    f = codecs.open(f\"agdSP/agdSP.usp{tb}.Delete.sql\", \"w\",\"utf-8\")\n",
    "    f.write(tmpFile)\n",
    "    f.close()\n",
    "    print(f)\n",
    "\n",
    "\n",
    "def GenOneGetSP(tb, dfc):\n",
    "    pt_input, pt_Declare, pt_SetValue = \"\",\"\",\"\"\n",
    "    pt_select, pt_fCol =\"\",\"\"\n",
    "\n",
    "    dft = df_sp[df_sp[\"tableName\"]==tb]\n",
    "    tbDscr = dft[\"tbDscr\"].values[0]         #取得單一值\n",
    "    dfc = dfc[dfc[\"tableName\"]==tb]    \n",
    "\n",
    "    for e in dfc.loc[dfc[\"col\"].isin([\"SeqNo\"])]:\n",
    "        d = dfc[e].values[0]\n",
    "        pt_input += f\"{d}\\n\\t\" if (e==\"cmmt_InputParas\") else \"\"\n",
    "        pt_Declare += f\"{d}\\n\\t\" if (e==\"cmmt_Declares\") else \"\"\n",
    "        pt_SetValue += f\"{d}\\n\\t\" if (e==\"cmmt_SetValue\") else \"\"\n",
    "\n",
    "    \n",
    "    aa = dfc[\"cmmt_select\"].tolist()\n",
    "    bb = dfc[\"fCol\"].tolist()\n",
    "\n",
    "    pt_select = \"\".join([f\"{x}\\n\" for x in aa])\n",
    "    pt_fCol   = \"\".join(f\"{x}\\n\\t\\t\\t\" for x in bb)\n",
    "\n",
    "    tmpFile = codecs.open(\"template/agdSP.Get.sql\",mode=\"r\",encoding=\"utf-8\",errors='strict', buffering=-1).read().format(tb=tb, tbDscr=tbDscr, pt_DateTime = time.strftime(\"%Y-%m-%d %H:%M:%S\", time.localtime()), pt_input=pt_input[:-2], pt_Declare=pt_Declare[:-2], pt_SetValue=pt_SetValue[:-2], pt_select = pt_select[:-1], pt_fCol = pt_fCol[1:-4])\n",
    "    \n",
    "    f = codecs.open(f\"agdSP/agdSP.usp{tb}.Get.sql\", mode=\"w\", encoding=\"utf-8\", errors=\"strict\")\n",
    "    f.write(tmpFile)\n",
    "    f.close()\n",
    "    \n",
    "\n",
    "def GenOneExistSP(tb, dfc):\n",
    "    dft = df_sp[df_sp[\"tableName\"]==tb]\n",
    "    tbDscr = dft[\"tbDscr\"].values[0]\n",
    "    \n",
    "    tmpFile = codecs.open(\"template/agdSP.Exist.sql\",mode=\"r\",encoding=\"utf-8\",errors='strict', buffering=-1).read().format(tb=tb, tbDscr=tbDscr, pt_DateTime = time.strftime(\"%Y-%m-%d %H:%M:%S\", time.localtime()))\n",
    "    \n",
    "    f = codecs.open(f\"agdSP/agdSP.usp{tb}.Exists.sql\", mode=\"w\", encoding=\"utf-8\", errors=\"strict\")\n",
    "    f.write(tmpFile)\n",
    "    f.close()\n"
   ]
  },
  {
   "cell_type": "code",
   "execution_count": 3,
   "metadata": {},
   "outputs": [
    {
     "name": "stderr",
     "output_type": "stream",
     "text": [
      "C:\\Users\\user\\AppData\\Local\\Programs\\Python\\Python39\\lib\\site-packages\\pandas\\io\\sql.py:761: UserWarning: pandas only support SQLAlchemy connectable(engine/connection) ordatabase string URI or sqlite3 DBAPI2 connectionother DBAPI2 objects are not tested, please consider using SQLAlchemy\n",
      "  warnings.warn(\n"
     ]
    },
    {
     "name": "stdout",
     "output_type": "stream",
     "text": [
      "<codecs.StreamReaderWriter object at 0x00000205CA6F9310>\n",
      "<codecs.StreamReaderWriter object at 0x00000205CA6F9DF0>\n",
      "<codecs.StreamReaderWriter object at 0x00000205CA6F9700>\n",
      "<codecs.StreamReaderWriter object at 0x00000205CA6F93A0>\n",
      "<codecs.StreamReaderWriter object at 0x00000205CA6F9F10>\n"
     ]
    }
   ],
   "source": [
    "import pandas as pd\n",
    "import numpy as np\n",
    "import pyodbc\n",
    "import comm as cmm\n",
    "import time\n",
    "import codecs\n",
    "\n",
    "df = pd.read_excel(\"tableSourceDef.xlsx\", sheet_name=\"admin_columns\",converters={'maxLen':str }).replace(np.nan, '')\n",
    "df_sp = pd.read_excel(\"tableSourceDef.xlsx\", sheet_name=\"SP_config\",converters={'maxLen':str }).replace(np.nan, '')\n",
    "df[\"colComp\"] = \"\\t\"+df[\"ColumnName\"].apply(cmm.fmtSquare) + (df[\"Type\"]+df[\"maxLen\"].apply(cmm.fmtParentheses)).apply(cmm.fmtSquare) + df[\"autoGen\"]+ df[\"isNull\"].apply(cmm.fmtNull)+\",\"\n",
    "df[\"colExt\"] = \"EXEC sys.sp_addextendedproperty @name=N'MS_Description', @value=N'\" + df[\"ColumnDscr\"]+ \"' ,@level0type=N'SCHEMA',@level0name=N'\" +df[\"Schema\"]+\"', @level1type=N'TABLE',@level1name=N'tb\"+ df[\"TableName\"]+\"', @level2type=N'COLUMN',@level2name=N'\"+df[\"ColumnName\"]+\"'\\nGO\"\n",
    "   \n",
    "# GenCreateTable(df)\n",
    "#----------------------------------------------\n",
    "cnxn = pyodbc.connect(cmm.connMSSQL(\"newcti\"))\n",
    "query=\"select SN,tableName,col,fCol,colName,DataType,cmmt_select,cmmt_InputParas,cmmt_Declares,cmmt_SetValue,cmmt_Exec,[sp_Update]  from [dbo].[myTbColumnDscr];\"\n",
    "dfc = pd.read_sql_query(query, cnxn).set_index(\"SN\")\n",
    "    \n",
    "tbs = df_sp[\"tableName\"].unique()\n",
    "for tb in tbs:\n",
    "    GenOneDeleteSP(tb, dfc)\n",
    "    GenOneGetSP(tb, dfc)\n",
    "    GenOneExistSP(tb, dfc)\n"
   ]
  },
  {
   "cell_type": "code",
   "execution_count": 50,
   "metadata": {},
   "outputs": [],
   "source": [
    "import pandas as pd\n",
    "import numpy as np\n",
    "import pyodbc\n",
    "import codecs\n",
    "import comm as cmm\n",
    "\n",
    "\n",
    "\n",
    "\n",
    "\n"
   ]
  }
 ],
 "metadata": {
  "interpreter": {
   "hash": "247ab06e135bb35fa78c5eff31b2a9a0050dcb5fb773c2631d2a29ac689eeccb"
  },
  "kernelspec": {
   "display_name": "Python 3.9.6 64-bit",
   "language": "python",
   "name": "python3"
  },
  "language_info": {
   "codemirror_mode": {
    "name": "ipython",
    "version": 3
   },
   "file_extension": ".py",
   "mimetype": "text/x-python",
   "name": "python",
   "nbconvert_exporter": "python",
   "pygments_lexer": "ipython3",
   "version": "3.9.6"
  },
  "orig_nbformat": 4
 },
 "nbformat": 4,
 "nbformat_minor": 2
}
