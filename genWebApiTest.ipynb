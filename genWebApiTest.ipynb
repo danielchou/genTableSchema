{
 "cells": [
  {
   "cell_type": "code",
   "execution_count": 1,
   "metadata": {},
   "outputs": [
    {
     "name": "stdout",
     "output_type": "stream",
     "text": [
      "(1, 'TxnItemCode', 'TIC01', '掛失金融卡/簽帳金融卡/勞動保障卡', '', '', 0, True, datetime.datetime(2022, 2, 2, 12, 0), 'sys', '系統', datetime.datetime(2022, 2, 2, 12, 0), 'sys', '系統', '2022-10-27 12:24:57')\n"
     ]
    },
    {
     "name": "stderr",
     "output_type": "stream",
     "text": [
      "C:\\Users\\user\\AppData\\Local\\Temp\\ipykernel_7008\\1046284914.py:37: DeprecationWarning: PyUnicode_FromUnicode(NULL, size) is deprecated; use PyUnicode_New() instead\n",
      "  print(rss)\n"
     ]
    }
   ],
   "source": [
    "## 通用函數：提供 source template file， target: 套表完成的路徑。\n",
    "def genOneCode(source, target, _dictParas):\n",
    "    _source = \"template/\" + source\n",
    "    fileName = target\n",
    "    # print(\"source:\", _source)\n",
    "    # print(\"target:\", fileName)\n",
    "\n",
    "    tmp = codecs.open(_source, mode=\"r\",encoding=\"utf-8\", buffering=-1).read()\n",
    "    t = Template(tmp).substitute(_dictParas)\n",
    "    os.makedirs(os.path.dirname(fileName), exist_ok=True)\n",
    "    f = codecs.open(fileName, mode=\"w\", encoding=\"utf-8\", errors=\"strict\")\n",
    "    f.write(t)\n",
    "    f.close()\n",
    "\n",
    "import pyodbc\n",
    "#寫入到資料庫中.....\n",
    "def ExecuteMSSQL(sql):\n",
    "    server = '20.121.2.79'\n",
    "    database = 'newcti'\n",
    "    username = 'agddev_db_admin'\n",
    "    password = 'pDataMIMA99*'\n",
    "    driver= '{ODBC Driver 13 for SQL Server}'\n",
    "    cnxn = pyodbc.connect('DRIVER='+driver+';PORT=1433;SERVER='+server+';PORT=1443;DATABASE='+database+';UID='+username+';PWD='+ password)\n",
    "    cursor = cnxn.cursor()\n",
    "    \n",
    "    cursor.execute(sql)\n",
    "    row = cursor.fetchone()     #查詢\n",
    "    # cursor.commit()            #執行\n",
    "    # rs = []\n",
    "    # while row: \n",
    "    #     # print(row[0])\n",
    "    #     row = cursor.fetchone()\n",
    "    #     rs.append(row)\n",
    "    return row\n",
    "\n",
    "rss = ExecuteMSSQL(\"select top 1 *, convert(varchar(20), getdate(),120) as cc from agdset.tbcode where codeType = 'TxnItemCode'\")\n",
    "print(rss)\n",
    "\n",
    "\n",
    "def fmtColumns(r):\n",
    "    col, colDscr, typ = r[\"Column\"], r[\"ColDscr\"], r[\"Type\"]\n",
    "    tmp = Template(\"\"\"$col = \"$col\",\\n\"\"\")\n",
    "    return tmp.substitute(col = col, typ = typ)\n",
    "\n",
    "def fmtConvertDT(r):\n",
    "    col, typ = r[\"Column\"], r[\"Type\"]\n",
    "    tmp = Template(\"\"\"convert(varchar(20), $col, 120) as '$col'\"\"\") if (typ in [\"datetime2\",\"datetime\",\"date\",\"time\"]) else Template(\"$col\")\n",
    "    return tmp.substitute(col = col)\n",
    "\n",
    "def fmtJSColumn(r):\n",
    "    col = r[\"Column\"]\n",
    "    return col[0:1].lower() + col[1:]"
   ]
  },
  {
   "cell_type": "code",
   "execution_count": 3,
   "metadata": {},
   "outputs": [
    {
     "name": "stdout",
     "output_type": "stream",
     "text": [
      "tables: ['User' 'Employee' 'Group' 'Role' 'Func' 'UserRole' 'RoleFunc' 'PcPhone'\n",
      " 'AuxCode' 'IvrCode' 'Code' 'PhoneBook' 'Reason' 'ReasonIvr' 'ReasonTxn'\n",
      " 'CipCode' 'CipImportCode' 'UserShift' 'UserOvertime'\n",
      " 'NotificationTemplate' 'MessageSheet' 'Message' 'MessageTemplate' 'Txn'\n",
      " 'DebitCardCode' 'AccidentFormTemplate' 'AccidentScript' 'ZipCity'\n",
      " 'ZipRoad' 'Marketing' 'MarketingActionCode' 'MealScript' 'SysConfig'\n",
      " 'Cust' 'CustKYC' 'CustPhone' 'CustAddress' 'CustEmail' 'UserPhoto'\n",
      " 'UserWordPad' 'UserNotifyLog' 'UserHist' 'RoleHist' 'UserRoleHist'\n",
      " 'RoleFuncHist' 'ReasonHist' 'CodeHist' 'MarketingOpenHist' 'Contact'\n",
      " 'ContactCustomer' 'ContactCustomerReason' 'Recording' 'RecordingFiles'\n",
      " 'RecordingEvaluation ' 'RecordingEvaluationAnswer ' 'NotificationLog'\n",
      " 'MessageLog' 'TxnLog' 'MarketingLog' 'TxnLogLoss' 'TxnLogNoSale'\n",
      " 'TxnLogAccident' 'AuthCallLog' 'CustMemo' 'CustMemoLog' 'CustQueryLog'\n",
      " 'LoginOutLog' 'EvaluationForm' 'BusinessDay' 'AutoNextNum' 'HubClients'\n",
      " 'HubMessages']\n",
      "TxnLogNoSale\n",
      "select top 1 primaryUUID,custKey,customerID,customerName,flagType,saleType,iDMark,reviewStatus,reviewMemo,creator,creatorName,convert(varchar(20), reviewDT, 120) as 'reviewDT',reviewer,reviewerName from agd.tbTxnLogNoSale order by 1 asc; \n",
      "agd.tbTxnLogNoSale (None, Decimal('5'), 'M106371509', '測試', 'CROSS', 'Y', '', '1', None, '14388', '顏O紳', None, None, None) ('', Decimal('5'), 'M106371509', '測試', 'CROSS', 'Y', '', '1', None, '14388', '顏O紳', None, None, None)\n"
     ]
    },
    {
     "name": "stderr",
     "output_type": "stream",
     "text": [
      "C:\\Users\\user\\AppData\\Local\\Temp\\ipykernel_7008\\2561310481.py:60: DeprecationWarning: PyUnicode_FromUnicode(NULL, size) is deprecated; use PyUnicode_New() instead\n",
      "  print(schemaTableName, rss, urss)\n"
     ]
    }
   ],
   "source": [
    "import pandas as pd\n",
    "import numpy as np\n",
    "\n",
    "import comm as cmm\n",
    "import time\n",
    "import codecs\n",
    "import math\n",
    "from string import Template\n",
    "\n",
    "_ExcelFile = \"refFiles/玉山AGD專案DB_Schema_20221024.xlsx\"\n",
    "pd.options.mode.chained_assignment = None  # default='warn'\n",
    "class MyTemplate(Template):\n",
    "    delimiter = \"//$\"           #自己定義的替換字元符號\n",
    "\n",
    "df = pd.read_excel(_ExcelFile, sheet_name=\"DB Schema\",converters={'maxLen':str }).replace(np.nan, '')\n",
    "df[\"schemaTableName\"] = df[\"Schema\"] + \".tb\" + df[\"TableName\"]\n",
    "\n",
    "tbs         = df[df[\"TableName\"] != \"-\"][\"TableName\"].unique()\n",
    "schemaTbs   = df[df[\"TableName\"] != \"-\"][\"schemaTableName\"].unique()\n",
    "\n",
    "print(\"tables:\", tbs)\n",
    "# print(\"tables:\", schemaTbs)\n",
    "\n",
    "df[\"Column\"]        = df.apply(fmtJSColumn, axis = 1)\n",
    "df[\"Column2\"]       = df.apply(fmtConvertDT, axis = 1)\n",
    "df[\"Columns\"]       = df[\"Column2\"] + \",\"\n",
    "df[\"InsertColumns\"] = df.apply(fmtColumns, axis = 1)\n",
    "\n",
    "\n",
    "i = 0\n",
    "for tb in tbs:\n",
    "    \n",
    "    if (tb in ['TxnLogNoSale'\n",
    "        # 'CustAddress', 'CustEmail', 'UserPhoto','UserWordPad', 'UserNotifyLog', 'UserHist', 'RoleHist', 'UserRoleHist','RoleFuncHist', 'ReasonHist', 'CodeHist', 'MarketingOpenHist', 'Contact','ContactCustomer', 'ContactCustomerReason', 'Recording', \n",
    "#  'RecordingFiles',\n",
    "#  'RecordingEvaluation', 'RecordingEvaluationAnswer', 'NotificationLog',\n",
    "#  'MessageLog', \n",
    "#  'TxnLog', \n",
    " #'MarketingLog', 'TxnLogLoss','TxnLogAccident', \n",
    "#  'TxnLogNoSale'\n",
    "#  'AuthCallLog', 'CustMemo', 'CustMemoLog', 'CustQueryLog',\n",
    "#  'LoginOutLog', 'EvaluationForm', 'BusinessDay', 'AutoNextNum', 'HubClients',\n",
    "#  'HubMessages'\n",
    " ]):\n",
    "        print(tb)\n",
    "        schemaTableName     = schemaTbs[i]                      ## 完整schema table name\n",
    "        escape4C = [\"seqNo\", \"createDT\", \"updateDT\", \"updater\", \"updaterName\"]   ## 排除掉4C\n",
    "\n",
    "        _columnsList        = df[(df[\"TableName\"] == tb) & (~df[\"Column\"].isin(escape4C))][\"Column\"].tolist()\n",
    "        _typeList           = df[(df[\"TableName\"] == tb) & (~df[\"Column\"].isin(escape4C))][\"Type\"].tolist()\n",
    "        _queryList          = df[(df[\"TableName\"] == tb) & (~df[\"Column\"].isin(escape4C))][\"Query\"].tolist()\n",
    "        _columns          = \"\".join(df[(df[\"TableName\"] == tb) & (~df[\"Column\"].isin(escape4C))][\"Columns\"].tolist())[:-1]\n",
    "        insertSql           = Template(\"select top 1 $_columns from $schemaTableName order by 1 asc; \").substitute(_columns = _columns, schemaTableName = schemaTableName)\n",
    "        updateSql           = Template(\"select top 1 $_columns from $schemaTableName order by 1 desc;\").substitute(_columns = _columns, schemaTableName = schemaTableName)\n",
    "\n",
    "\n",
    "        print(insertSql)\n",
    "        rss = ExecuteMSSQL(insertSql)\n",
    "        urss = ExecuteMSSQL(updateSql)\n",
    "        print(schemaTableName, rss, urss)\n",
    "\n",
    "        j, pt_ColumnsInsert, pt_queryParas, pt_ColumnsUpdate = 0, \"\", \"\", \"\"\n",
    "\n",
    "        for c in _columnsList:\n",
    "            col     = _columnsList[j]\n",
    "            type    = _typeList[j]\n",
    "            isQuery = _queryList[j]  #是否為query條件?\n",
    "            tmp     = \"\\t\\t\\t\\t$col = $val,\\n\" if (type in [\"int\", \"tinyint\", \"smallint\", \"float\",\"decimal\",\"numeric\",\"bit\"]) else \"\"\"\\t\\t\\t\\t$col = \"$val\",\\n\"\"\"\n",
    "            pt_ColumnsInsert += Template(tmp).substitute(col = c, val = rss[j])\n",
    "            pt_ColumnsUpdate += \"\" if (col in [\"creator\", \"creatorName\"]) else Template(tmp).substitute(col = c, val = urss[j])\n",
    "            pt_queryParas += \"\" if (isQuery == 0) else \"\\t\\t\"+Template(tmp).substitute(col = c, val = rss[j])\n",
    "            j += 1\n",
    "\n",
    "        dictParas = dict(pt_TableName = tb, pt_Service=\"Service\", pt_Test = \"Test\", pt_TestFailed = \"TestFailed\", pt_QueryRequest = \"QueryRequest\", pt_Insert = \"Insert\", pt_Update = \"Update\", pt_Delete = \"Delete\", pt_InsertRequest=\"InsertRequest\", pt_UpdateRequest = \"UpdateRequest\", pt_Get = \"Get\", pt_Response =\"Response\", pt_Request =\"Request\", pt_Query = \"Query\", pt_ColumnsInsert = pt_ColumnsInsert[:-1], pt_ColumnsUpdate = pt_ColumnsUpdate[:-1], pt_queryParas = pt_queryParas[:-1])\n",
    "\n",
    "        ## 開始套表...\n",
    "        genOneCode(\"WebApiTest/TestPcPhoneService.cs\", f\"WebApiTest/{tb}Test/Test{tb}Service.cs\", dictParas)\n",
    "    i += 1\n",
    "\n"
   ]
  }
 ],
 "metadata": {
  "kernelspec": {
   "display_name": "Python 3.10.2 64-bit",
   "language": "python",
   "name": "python3"
  },
  "language_info": {
   "codemirror_mode": {
    "name": "ipython",
    "version": 3
   },
   "file_extension": ".py",
   "mimetype": "text/x-python",
   "name": "python",
   "nbconvert_exporter": "python",
   "pygments_lexer": "ipython3",
   "version": "3.10.2"
  },
  "orig_nbformat": 4,
  "vscode": {
   "interpreter": {
    "hash": "369f2c481f4da34e4445cda3fffd2e751bd1c4d706f27375911949ba6bb62e1c"
   }
  }
 },
 "nbformat": 4,
 "nbformat_minor": 2
}
