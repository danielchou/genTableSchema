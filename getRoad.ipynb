{
 "cells": [
  {
   "cell_type": "code",
   "execution_count": 19,
   "metadata": {},
   "outputs": [],
   "source": [
    "import pandas as pd\n",
    "import numpy as np\n",
    "import pyodbc\n",
    "import comm as cmm\n",
    "import time\n",
    "import codecs\n",
    "from string import Template\n",
    "\n",
    "from string import Template\n",
    "import math\n",
    "\n",
    "_ExcelFile = \"refFiles/road.csv\"\n",
    "pd.options.mode.chained_assignment = None  # default='arn'\n",
    "\n",
    "df = pd.read_csv(_ExcelFile).replace(np.nan, '')\n",
    "\n",
    "def fmtGetRoad(r):\n",
    "    zipCode, road = r[\"ZIPCODE\"], r[\"ROAD\"]\n",
    "    return f\"insert into [agdSet].[tbZipRoad] (ZipCode,Road) values ('{str(zipCode)}','{str(road)}');\"\n",
    "\n",
    "df[\"sql\"] = df.apply(fmtGetRoad, axis = 1)\n",
    "# df[\"sql\"]\n",
    "roadStr = \"\\n\".join(df[\"sql\"].tolist())\n",
    "roadStr\n",
    "# ddd\n",
    "fileName = f\"NewCti/Roads.sql\"\n",
    "    # print(fileName)\n",
    "os.makedirs(os.path.dirname(fileName), exist_ok=True)\n",
    "f = codecs.open(fileName, mode=\"w\", encoding=\"utf-8\", errors=\"strict\")\n",
    "f.write(roadStr)\n",
    "f.close()"
   ]
  }
 ],
 "metadata": {
  "kernelspec": {
   "display_name": "Python 3.10.2 64-bit",
   "language": "python",
   "name": "python3"
  },
  "language_info": {
   "codemirror_mode": {
    "name": "ipython",
    "version": 3
   },
   "file_extension": ".py",
   "mimetype": "text/x-python",
   "name": "python",
   "nbconvert_exporter": "python",
   "pygments_lexer": "ipython3",
   "version": "3.10.2"
  },
  "orig_nbformat": 4,
  "vscode": {
   "interpreter": {
    "hash": "369f2c481f4da34e4445cda3fffd2e751bd1c4d706f27375911949ba6bb62e1c"
   }
  }
 },
 "nbformat": 4,
 "nbformat_minor": 2
}
