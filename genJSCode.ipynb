{
 "cells": [
  {
   "cell_type": "code",
   "execution_count": 29,
   "metadata": {},
   "outputs": [
    {
     "name": "stdout",
     "output_type": "stream",
     "text": [
      "PcPhone pcPhone pc-phone\n"
     ]
    }
   ],
   "source": [
    "import pandas as pd\n",
    "import numpy as np\n",
    "import pyodbc\n",
    "import comm as cmm\n",
    "import time\n",
    "import codecs\n",
    "import os\n",
    "from string import Template\n",
    "\n",
    "df = pd.read_excel(\"tableSourceDef.xlsx\", sheet_name=\"admin_columns\",converters={'maxLen':str }).replace(np.nan, '')\n",
    "df_sp = pd.read_excel(\"tableSourceDef.xlsx\", sheet_name=\"SP_config\",converters={'maxLen':str }).replace(np.nan, '')\n",
    "tbs = df_sp[\"TableName\"].unique()\n",
    "\n",
    "# print(tbs)\n",
    "\n",
    "\n",
    "def genJSCode(tb, dfm, dfc):\n",
    "    TableName, tableName, tb_name = \"\",\"\",\"\"  #嚴格區分大小寫的TableName\n",
    "\n",
    "    pt_TableName = dfm[\"TableName\"].values[0]\n",
    "    pt_tableName = dfm[\"tableName\"].values[0]\n",
    "    pt_table_name = dfm[\"table_name\"].values[0]\n",
    "    print(pt_TableName,pt_tableName, pt_table_name)\n",
    "\n",
    "    tmpJSFile = codecs.open(f\"template/JS/views/admin/index.vue\",mode=\"r\",encoding=\"utf-8\", buffering=-1).read()\n",
    "    t = Template(tmpJSFile)\n",
    "    t = t.substitute(moduleName = \"moduleName\", pt_TableName = pt_TableName, pt_tableName = pt_tableName, pt_table_name = pt_table_name)  #套表\n",
    "    \n",
    "    # print(tmpJSFile)\n",
    "    fileName = f\"JS/src/views/admin/{pt_table_name}/index.vue\"\n",
    "    os.makedirs(os.path.dirname(fileName), exist_ok=True)\n",
    "    f = codecs.open(fileName, mode=\"w\", encoding=\"utf-8\", errors=\"strict\")\n",
    "    f.write(t)\n",
    "    f.close()\n",
    "\n",
    "\n",
    "for tb in tbs:\n",
    "\n",
    "    # print(tb)\n",
    "    if tb==\"PcPhone\":\n",
    "        dfm = df_sp[df_sp[\"TableName\"] == tb]\n",
    "        dfc = df[df[\"TableName\"] == tb]\n",
    "\n",
    "        genJSCode(tb, dfm, dfc)\n",
    "    \n"
   ]
  }
 ],
 "metadata": {
  "interpreter": {
   "hash": "247ab06e135bb35fa78c5eff31b2a9a0050dcb5fb773c2631d2a29ac689eeccb"
  },
  "kernelspec": {
   "display_name": "Python 3.9.6 64-bit",
   "language": "python",
   "name": "python3"
  },
  "language_info": {
   "codemirror_mode": {
    "name": "ipython",
    "version": 3
   },
   "file_extension": ".py",
   "mimetype": "text/x-python",
   "name": "python",
   "nbconvert_exporter": "python",
   "pygments_lexer": "ipython3",
   "version": "3.9.6"
  },
  "orig_nbformat": 4
 },
 "nbformat": 4,
 "nbformat_minor": 2
}
